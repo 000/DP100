{
 "cells": [
  {
   "cell_type": "markdown",
   "metadata": {},
   "source": [
    "# Using the Visual Designer\n",
    "\n",
    "> **Important**: This exercise assumes you have completed [Lab 2A](labdocs/Lab02A.md) and [Lab 2B](labdocs/Lab02B.md) to create and deploy an inference pipeline as a containerized service.\n",
    "\n",
    "Modify the code in the cell below to use the ***ENDPOINT*** and ***PRIMARY_KEY*** for your **predict-diabetes** service. Then run the cell to submit new patient data and retrieve the predicted classifications."
   ]
  },
  {
   "cell_type": "code",
   "execution_count": null,
   "metadata": {},
   "outputs": [],
   "source": [
    "import urllib.request\n",
    "import json\n",
    "import os\n",
    "\n",
    "endpoint = 'ENDPOINT' # Replace this with your endpoint\n",
    "key = 'PRIMARY_KEY' # Replace this with your primary key\n",
    "\n",
    "data = {\n",
    "    \"Inputs\": {\n",
    "          \"WebServiceInput0\":\n",
    "          [\n",
    "              {\n",
    "                    'PatientID': \"1882185\",\n",
    "                    'Pregnancies': \"9\",\n",
    "                    'PlasmaGlucose': \"104\",\n",
    "                    'DiastolicBloodPressure': \"51\",\n",
    "                    'TricepsThickness': \"7\",\n",
    "                    'SerumInsulin': \"24\",\n",
    "                    'BMI': \"27.36983156\",\n",
    "                    'DiabetesPedigree': \"1.3504720469999998\",\n",
    "                    'Age': \"43\",\n",
    "              },\n",
    "          ],\n",
    "    },\n",
    "    \"GlobalParameters\":  {\n",
    "    }\n",
    "}\n",
    "\n",
    "body = str.encode(json.dumps(data))\n",
    "\n",
    "\n",
    "headers = {'Content-Type':'application/json', 'Authorization':('Bearer '+ key)}\n",
    "\n",
    "req = urllib.request.Request(endpoint, body, headers)\n",
    "\n",
    "try:\n",
    "    response = urllib.request.urlopen(req)\n",
    "\n",
    "    result = response.read()\n",
    "    print(result)\n",
    "except urllib.error.HTTPError as error:\n",
    "    print(\"The request failed with status code: \" + str(error.code))\n",
    "\n",
    "    # Print the headers - they include the requert ID and the timestamp, which are useful for debugging the failure\n",
    "    print(error.info())\n",
    "    print(json.loads(error.read().decode(\"utf8\", 'ignore')))"
   ]
  }
 ],
 "metadata": {
  "kernelspec": {
   "display_name": "Python 3.6 - AzureML",
   "language": "python",
   "name": "python3-azureml"
  },
  "language_info": {
   "codemirror_mode": {
    "name": "ipython",
    "version": 3
   },
   "file_extension": ".py",
   "mimetype": "text/x-python",
   "name": "python",
   "nbconvert_exporter": "python",
   "pygments_lexer": "ipython3",
   "version": "3.6.9"
  }
 },
 "nbformat": 4,
 "nbformat_minor": 2
}
